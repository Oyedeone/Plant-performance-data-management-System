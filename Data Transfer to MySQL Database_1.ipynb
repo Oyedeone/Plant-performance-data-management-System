{
 "cells": [
  {
   "cell_type": "markdown",
   "id": "f53bda2f",
   "metadata": {},
   "source": [
    "## Transfer data from from the csv file to mysql database"
   ]
  },
  {
   "cell_type": "markdown",
   "id": "cd1701d8",
   "metadata": {},
   "source": [
    "#### Transfer data from from the csv file to mysql database\n",
    "#### database name:plantperformanceData\n",
    "#### table name:DOWNTIME_GENERAL_DATA"
   ]
  },
  {
   "cell_type": "markdown",
   "id": "1a849ebc",
   "metadata": {},
   "source": [
    " #### Import necessary modules"
   ]
  },
  {
   "cell_type": "code",
   "execution_count": 1,
   "id": "65757e67",
   "metadata": {},
   "outputs": [],
   "source": [
    "import pandas as pd\n",
    "import mysql.connector\n",
    "from mysql.connector import errorcode\n",
    "from datetime import datetime\n"
   ]
  },
  {
   "cell_type": "markdown",
   "id": "46b88a0a",
   "metadata": {},
   "source": [
    "#### Setting up database Connection "
   ]
  },
  {
   "cell_type": "code",
   "execution_count": 23,
   "id": "69b9838e",
   "metadata": {},
   "outputs": [],
   "source": [
    "db_config = {\n",
    "    'user': 'root',\n",
    "    'password': 'oyediran',\n",
    "    'host': 'localhost',\n",
    "    'database': 'plantperformanceData',\n",
    "}\n"
   ]
  },
  {
   "cell_type": "markdown",
   "id": "d2ca38ea",
   "metadata": {},
   "source": [
    "#### Reading CSV file into a pandas DataFrame"
   ]
  },
  {
   "cell_type": "code",
   "execution_count": 2,
   "id": "a4eb4266",
   "metadata": {},
   "outputs": [
    {
     "ename": "FileNotFoundError",
     "evalue": "[Errno 2] No such file or directory: 'Data Transfer to MySQL Database_1'",
     "output_type": "error",
     "traceback": [
      "\u001b[1;31m---------------------------------------------------------------------------\u001b[0m",
      "\u001b[1;31mFileNotFoundError\u001b[0m                         Traceback (most recent call last)",
      "Cell \u001b[1;32mIn[2], line 4\u001b[0m\n\u001b[0;32m      2\u001b[0m csv_file_path \u001b[38;5;241m=\u001b[39m \u001b[38;5;124m\"\u001b[39m\u001b[38;5;124mData Transfer to MySQL Database_1\u001b[39m\u001b[38;5;124m\"\u001b[39m\n\u001b[0;32m      3\u001b[0m \u001b[38;5;66;03m# Read CSV file into a pandas DataFrame\u001b[39;00m\n\u001b[1;32m----> 4\u001b[0m data \u001b[38;5;241m=\u001b[39m pd\u001b[38;5;241m.\u001b[39mread_csv(csv_file_path)\n\u001b[0;32m      5\u001b[0m data \u001b[38;5;241m=\u001b[39m df\u001b[38;5;241m.\u001b[39mfillna(\u001b[38;5;124m'\u001b[39m\u001b[38;5;124m'\u001b[39m)\n",
      "File \u001b[1;32m~\\anaconda3\\Lib\\site-packages\\pandas\\io\\parsers\\readers.py:912\u001b[0m, in \u001b[0;36mread_csv\u001b[1;34m(filepath_or_buffer, sep, delimiter, header, names, index_col, usecols, dtype, engine, converters, true_values, false_values, skipinitialspace, skiprows, skipfooter, nrows, na_values, keep_default_na, na_filter, verbose, skip_blank_lines, parse_dates, infer_datetime_format, keep_date_col, date_parser, date_format, dayfirst, cache_dates, iterator, chunksize, compression, thousands, decimal, lineterminator, quotechar, quoting, doublequote, escapechar, comment, encoding, encoding_errors, dialect, on_bad_lines, delim_whitespace, low_memory, memory_map, float_precision, storage_options, dtype_backend)\u001b[0m\n\u001b[0;32m    899\u001b[0m kwds_defaults \u001b[38;5;241m=\u001b[39m _refine_defaults_read(\n\u001b[0;32m    900\u001b[0m     dialect,\n\u001b[0;32m    901\u001b[0m     delimiter,\n\u001b[1;32m   (...)\u001b[0m\n\u001b[0;32m    908\u001b[0m     dtype_backend\u001b[38;5;241m=\u001b[39mdtype_backend,\n\u001b[0;32m    909\u001b[0m )\n\u001b[0;32m    910\u001b[0m kwds\u001b[38;5;241m.\u001b[39mupdate(kwds_defaults)\n\u001b[1;32m--> 912\u001b[0m \u001b[38;5;28;01mreturn\u001b[39;00m _read(filepath_or_buffer, kwds)\n",
      "File \u001b[1;32m~\\anaconda3\\Lib\\site-packages\\pandas\\io\\parsers\\readers.py:577\u001b[0m, in \u001b[0;36m_read\u001b[1;34m(filepath_or_buffer, kwds)\u001b[0m\n\u001b[0;32m    574\u001b[0m _validate_names(kwds\u001b[38;5;241m.\u001b[39mget(\u001b[38;5;124m\"\u001b[39m\u001b[38;5;124mnames\u001b[39m\u001b[38;5;124m\"\u001b[39m, \u001b[38;5;28;01mNone\u001b[39;00m))\n\u001b[0;32m    576\u001b[0m \u001b[38;5;66;03m# Create the parser.\u001b[39;00m\n\u001b[1;32m--> 577\u001b[0m parser \u001b[38;5;241m=\u001b[39m TextFileReader(filepath_or_buffer, \u001b[38;5;241m*\u001b[39m\u001b[38;5;241m*\u001b[39mkwds)\n\u001b[0;32m    579\u001b[0m \u001b[38;5;28;01mif\u001b[39;00m chunksize \u001b[38;5;129;01mor\u001b[39;00m iterator:\n\u001b[0;32m    580\u001b[0m     \u001b[38;5;28;01mreturn\u001b[39;00m parser\n",
      "File \u001b[1;32m~\\anaconda3\\Lib\\site-packages\\pandas\\io\\parsers\\readers.py:1407\u001b[0m, in \u001b[0;36mTextFileReader.__init__\u001b[1;34m(self, f, engine, **kwds)\u001b[0m\n\u001b[0;32m   1404\u001b[0m     \u001b[38;5;28mself\u001b[39m\u001b[38;5;241m.\u001b[39moptions[\u001b[38;5;124m\"\u001b[39m\u001b[38;5;124mhas_index_names\u001b[39m\u001b[38;5;124m\"\u001b[39m] \u001b[38;5;241m=\u001b[39m kwds[\u001b[38;5;124m\"\u001b[39m\u001b[38;5;124mhas_index_names\u001b[39m\u001b[38;5;124m\"\u001b[39m]\n\u001b[0;32m   1406\u001b[0m \u001b[38;5;28mself\u001b[39m\u001b[38;5;241m.\u001b[39mhandles: IOHandles \u001b[38;5;241m|\u001b[39m \u001b[38;5;28;01mNone\u001b[39;00m \u001b[38;5;241m=\u001b[39m \u001b[38;5;28;01mNone\u001b[39;00m\n\u001b[1;32m-> 1407\u001b[0m \u001b[38;5;28mself\u001b[39m\u001b[38;5;241m.\u001b[39m_engine \u001b[38;5;241m=\u001b[39m \u001b[38;5;28mself\u001b[39m\u001b[38;5;241m.\u001b[39m_make_engine(f, \u001b[38;5;28mself\u001b[39m\u001b[38;5;241m.\u001b[39mengine)\n",
      "File \u001b[1;32m~\\anaconda3\\Lib\\site-packages\\pandas\\io\\parsers\\readers.py:1661\u001b[0m, in \u001b[0;36mTextFileReader._make_engine\u001b[1;34m(self, f, engine)\u001b[0m\n\u001b[0;32m   1659\u001b[0m     \u001b[38;5;28;01mif\u001b[39;00m \u001b[38;5;124m\"\u001b[39m\u001b[38;5;124mb\u001b[39m\u001b[38;5;124m\"\u001b[39m \u001b[38;5;129;01mnot\u001b[39;00m \u001b[38;5;129;01min\u001b[39;00m mode:\n\u001b[0;32m   1660\u001b[0m         mode \u001b[38;5;241m+\u001b[39m\u001b[38;5;241m=\u001b[39m \u001b[38;5;124m\"\u001b[39m\u001b[38;5;124mb\u001b[39m\u001b[38;5;124m\"\u001b[39m\n\u001b[1;32m-> 1661\u001b[0m \u001b[38;5;28mself\u001b[39m\u001b[38;5;241m.\u001b[39mhandles \u001b[38;5;241m=\u001b[39m get_handle(\n\u001b[0;32m   1662\u001b[0m     f,\n\u001b[0;32m   1663\u001b[0m     mode,\n\u001b[0;32m   1664\u001b[0m     encoding\u001b[38;5;241m=\u001b[39m\u001b[38;5;28mself\u001b[39m\u001b[38;5;241m.\u001b[39moptions\u001b[38;5;241m.\u001b[39mget(\u001b[38;5;124m\"\u001b[39m\u001b[38;5;124mencoding\u001b[39m\u001b[38;5;124m\"\u001b[39m, \u001b[38;5;28;01mNone\u001b[39;00m),\n\u001b[0;32m   1665\u001b[0m     compression\u001b[38;5;241m=\u001b[39m\u001b[38;5;28mself\u001b[39m\u001b[38;5;241m.\u001b[39moptions\u001b[38;5;241m.\u001b[39mget(\u001b[38;5;124m\"\u001b[39m\u001b[38;5;124mcompression\u001b[39m\u001b[38;5;124m\"\u001b[39m, \u001b[38;5;28;01mNone\u001b[39;00m),\n\u001b[0;32m   1666\u001b[0m     memory_map\u001b[38;5;241m=\u001b[39m\u001b[38;5;28mself\u001b[39m\u001b[38;5;241m.\u001b[39moptions\u001b[38;5;241m.\u001b[39mget(\u001b[38;5;124m\"\u001b[39m\u001b[38;5;124mmemory_map\u001b[39m\u001b[38;5;124m\"\u001b[39m, \u001b[38;5;28;01mFalse\u001b[39;00m),\n\u001b[0;32m   1667\u001b[0m     is_text\u001b[38;5;241m=\u001b[39mis_text,\n\u001b[0;32m   1668\u001b[0m     errors\u001b[38;5;241m=\u001b[39m\u001b[38;5;28mself\u001b[39m\u001b[38;5;241m.\u001b[39moptions\u001b[38;5;241m.\u001b[39mget(\u001b[38;5;124m\"\u001b[39m\u001b[38;5;124mencoding_errors\u001b[39m\u001b[38;5;124m\"\u001b[39m, \u001b[38;5;124m\"\u001b[39m\u001b[38;5;124mstrict\u001b[39m\u001b[38;5;124m\"\u001b[39m),\n\u001b[0;32m   1669\u001b[0m     storage_options\u001b[38;5;241m=\u001b[39m\u001b[38;5;28mself\u001b[39m\u001b[38;5;241m.\u001b[39moptions\u001b[38;5;241m.\u001b[39mget(\u001b[38;5;124m\"\u001b[39m\u001b[38;5;124mstorage_options\u001b[39m\u001b[38;5;124m\"\u001b[39m, \u001b[38;5;28;01mNone\u001b[39;00m),\n\u001b[0;32m   1670\u001b[0m )\n\u001b[0;32m   1671\u001b[0m \u001b[38;5;28;01massert\u001b[39;00m \u001b[38;5;28mself\u001b[39m\u001b[38;5;241m.\u001b[39mhandles \u001b[38;5;129;01mis\u001b[39;00m \u001b[38;5;129;01mnot\u001b[39;00m \u001b[38;5;28;01mNone\u001b[39;00m\n\u001b[0;32m   1672\u001b[0m f \u001b[38;5;241m=\u001b[39m \u001b[38;5;28mself\u001b[39m\u001b[38;5;241m.\u001b[39mhandles\u001b[38;5;241m.\u001b[39mhandle\n",
      "File \u001b[1;32m~\\anaconda3\\Lib\\site-packages\\pandas\\io\\common.py:859\u001b[0m, in \u001b[0;36mget_handle\u001b[1;34m(path_or_buf, mode, encoding, compression, memory_map, is_text, errors, storage_options)\u001b[0m\n\u001b[0;32m    854\u001b[0m \u001b[38;5;28;01melif\u001b[39;00m \u001b[38;5;28misinstance\u001b[39m(handle, \u001b[38;5;28mstr\u001b[39m):\n\u001b[0;32m    855\u001b[0m     \u001b[38;5;66;03m# Check whether the filename is to be opened in binary mode.\u001b[39;00m\n\u001b[0;32m    856\u001b[0m     \u001b[38;5;66;03m# Binary mode does not support 'encoding' and 'newline'.\u001b[39;00m\n\u001b[0;32m    857\u001b[0m     \u001b[38;5;28;01mif\u001b[39;00m ioargs\u001b[38;5;241m.\u001b[39mencoding \u001b[38;5;129;01mand\u001b[39;00m \u001b[38;5;124m\"\u001b[39m\u001b[38;5;124mb\u001b[39m\u001b[38;5;124m\"\u001b[39m \u001b[38;5;129;01mnot\u001b[39;00m \u001b[38;5;129;01min\u001b[39;00m ioargs\u001b[38;5;241m.\u001b[39mmode:\n\u001b[0;32m    858\u001b[0m         \u001b[38;5;66;03m# Encoding\u001b[39;00m\n\u001b[1;32m--> 859\u001b[0m         handle \u001b[38;5;241m=\u001b[39m \u001b[38;5;28mopen\u001b[39m(\n\u001b[0;32m    860\u001b[0m             handle,\n\u001b[0;32m    861\u001b[0m             ioargs\u001b[38;5;241m.\u001b[39mmode,\n\u001b[0;32m    862\u001b[0m             encoding\u001b[38;5;241m=\u001b[39mioargs\u001b[38;5;241m.\u001b[39mencoding,\n\u001b[0;32m    863\u001b[0m             errors\u001b[38;5;241m=\u001b[39merrors,\n\u001b[0;32m    864\u001b[0m             newline\u001b[38;5;241m=\u001b[39m\u001b[38;5;124m\"\u001b[39m\u001b[38;5;124m\"\u001b[39m,\n\u001b[0;32m    865\u001b[0m         )\n\u001b[0;32m    866\u001b[0m     \u001b[38;5;28;01melse\u001b[39;00m:\n\u001b[0;32m    867\u001b[0m         \u001b[38;5;66;03m# Binary mode\u001b[39;00m\n\u001b[0;32m    868\u001b[0m         handle \u001b[38;5;241m=\u001b[39m \u001b[38;5;28mopen\u001b[39m(handle, ioargs\u001b[38;5;241m.\u001b[39mmode)\n",
      "\u001b[1;31mFileNotFoundError\u001b[0m: [Errno 2] No such file or directory: 'Data Transfer to MySQL Database_1'"
     ]
    }
   ],
   "source": [
    "# CSV file path\n",
    "csv_file_path = \"Data Transfer to MySQL Database_1\"\n",
    "# Read CSV file into a pandas DataFrame\n",
    "data = pd.read_csv(csv_file_path)\n",
    "data = df.fillna('')"
   ]
  },
  {
   "cell_type": "markdown",
   "id": "c72bea7e",
   "metadata": {},
   "source": [
    "####  Inserting  data into  DOWNTIME_GENERAL_DATA table in MySQl database"
   ]
  },
  {
   "cell_type": "code",
   "execution_count": 19,
   "id": "d0178767",
   "metadata": {},
   "outputs": [],
   "source": [
    "\n",
    "# Connect to MySQL\n",
    "try:\n",
    "    cnx = mysql.connector.connect(**db_config)\n",
    "    cursor = cnx.cursor()\n",
    "\n",
    "    # Insert data into existing MySQL table\n",
    "    for index, row in df.iterrows():\n",
    "        try:\n",
    "            # Handle time conversion\n",
    "            start_time = datetime.strptime(row['Downtime_Start_Time'], '%Y-%m-%d %H:%M').time()\n",
    "            stop_time = datetime.strptime(row['Downtime_Stop_Time'], '%Y-%m-%d %H:%M').time()\n",
    "        except ValueError:\n",
    "            # Handle invalid time values (e.g., '#VALUE!')\n",
    "            start_time = None\n",
    "            stop_time = None\n",
    "\n",
    "        insert_query = \"\"\"\n",
    "        INSERT INTO DOWNTIME_GENERAL_DATA (\n",
    "            Location, Production_Date, Downtime_Category, \n",
    "            ProcessArea, Equipment, Downtime_Start_Time, Downtime_Stop_Time\n",
    "        ) VALUES (%s, %s, %s, %s, %s, %s, %s);\n",
    "        \"\"\"\n",
    "        data = (\n",
    "            str(row['Location']),\n",
    "            str(row['ProductionDate']),\n",
    "            str(row['Downtime Category']),\n",
    "            str(row['Process']),\n",
    "            str(row['Equipment']),\n",
    "            start_time,\n",
    "            stop_time\n",
    "        )\n",
    "        cursor.execute(insert_query, data)\n",
    "\n",
    "    # Commit changes\n",
    "    cnx.commit()\n",
    "\n",
    "except mysql.connector.Error as err:\n",
    "    if err.errno == errorcode.ER_ACCESS_DENIED_ERROR:\n",
    "        print(\"Something is wrong with your user name or password\")\n",
    "    elif err.errno == errorcode.ER_BAD_DB_ERROR:\n",
    "        print(\"Database does not exist\")\n",
    "    else:\n",
    "        print(err)\n",
    "\n",
    "finally:\n",
    "    # Close connections\n",
    "    if 'cnx' in locals() and cnx.is_connected():\n",
    "        cursor.close()\n",
    "        cnx.close()\n"
   ]
  },
  {
   "cell_type": "markdown",
   "id": "578a1098",
   "metadata": {},
   "source": [
    "#### Select the first 10 rows from the  DOWNTIME_GENERAL_DATA table in database"
   ]
  },
  {
   "cell_type": "code",
   "execution_count": 28,
   "id": "331ef779",
   "metadata": {},
   "outputs": [
    {
     "name": "stdout",
     "output_type": "stream",
     "text": [
      "(1765, datetime.date(2023, 10, 2), 'Plant Ama', 'Planned Downtime ', 'Morning Meeting', 'Morning Meeting', datetime.timedelta(0), datetime.timedelta(seconds=900))\n",
      "(1766, datetime.date(2023, 10, 2), 'Plant Ibd', 'Schedule Exception', 'Safety Updates', 'Safety Updates', datetime.timedelta(0), datetime.timedelta(seconds=31500))\n",
      "(1767, datetime.date(2023, 10, 3), 'Plant Enu', 'Planned Downtime ', 'Morning Meeting', 'Morning Meeting', datetime.timedelta(0), datetime.timedelta(seconds=900))\n",
      "(1768, datetime.date(2023, 10, 3), 'Plant Lag', 'Schedule Exception', 'Safety Updates', 'Safety Updates', datetime.timedelta(0), datetime.timedelta(seconds=31500))\n",
      "(1769, datetime.date(2023, 10, 4), 'Plant Ama', 'Planned Downtime ', 'Morning Meeting', 'Morning Meeting', datetime.timedelta(0), datetime.timedelta(seconds=900))\n",
      "(1770, datetime.date(2023, 10, 4), 'Plant Ibd', 'Schedule Exception', 'Safety Updates', 'Safety Updates', datetime.timedelta(0), datetime.timedelta(seconds=31500))\n",
      "(1771, datetime.date(2023, 10, 5), 'Plant Enu', 'Planned Downtime ', 'Morning Meeting', 'Morning Meeting', datetime.timedelta(0), datetime.timedelta(seconds=1800))\n",
      "(1772, datetime.date(2023, 10, 5), 'Plant Lag', 'Schedule Exception', 'Safety Updates', 'Safety Updates', datetime.timedelta(0), datetime.timedelta(seconds=19800))\n",
      "(1773, datetime.date(2023, 10, 5), 'Plant Ama', 'Unplaned Downtime ', 'Magnet', 'Mag 1 Jam', datetime.timedelta(0), datetime.timedelta(seconds=2700))\n",
      "(1774, datetime.date(2023, 10, 5), 'Plant Ibd', 'Unplaned Downtime ', 'Conveyor', 'Dirt 1 Jam', datetime.timedelta(0), datetime.timedelta(seconds=5820))\n"
     ]
    }
   ],
   "source": [
    "cnx = mysql.connector.connect(**db_config)\n",
    "cursor = cnx.cursor()\n",
    "\n",
    "select_query = \"SELECT * FROM DOWNTIME_GENERAL_DATA LIMIT 10;\"\n",
    "cursor.execute(select_query)\n",
    "\n",
    "# Fetch the results\n",
    "rows = cursor.fetchall()\n",
    "for row in rows:\n",
    "        print(row)"
   ]
  },
  {
   "cell_type": "code",
   "execution_count": null,
   "id": "74a6c81c",
   "metadata": {},
   "outputs": [],
   "source": []
  }
 ],
 "metadata": {
  "kernelspec": {
   "display_name": "Python 3 (ipykernel)",
   "language": "python",
   "name": "python3"
  },
  "language_info": {
   "codemirror_mode": {
    "name": "ipython",
    "version": 3
   },
   "file_extension": ".py",
   "mimetype": "text/x-python",
   "name": "python",
   "nbconvert_exporter": "python",
   "pygments_lexer": "ipython3",
   "version": "3.11.5"
  }
 },
 "nbformat": 4,
 "nbformat_minor": 5
}
